{
 "cells": [
  {
   "cell_type": "markdown",
   "id": "3d2b0ebc-893a-45f7-98ec-326d10593901",
   "metadata": {},
   "source": [
    "# <center> • **Data Warehouse** </center>\n",
    "#### <center> _____________○ Assignment 02: Data Cube Operations_____________ </center>\n",
    "#### <center> _____________○ Name: Belal Khaled ~ 2136873_____________ </center>\n",
    "# ــــــــــــــــــــــــــــــــــــــــــــــــــــــــــــــــــــــــــــــــــــــــــــــــــــــــــــــــــــــــــــــــــــــــــــــــــــــــــــــــــــــــــــــــــــــــــــــــــــــــــــــــــــــــــ"
   ]
  },
  {
   "cell_type": "markdown",
   "id": "23e73c39-ca18-4937-832e-14929e9b95e1",
   "metadata": {},
   "source": [
    "# • Importing All Libraries We Need:"
   ]
  },
  {
   "cell_type": "code",
   "execution_count": 1,
   "id": "84c27475-5f08-40af-8fa6-65214de7cfe3",
   "metadata": {},
   "outputs": [],
   "source": [
    "import numpy as np\n",
    "import pandas as pd"
   ]
  },
  {
   "cell_type": "markdown",
   "id": "3268b01a-c197-41cd-804e-476aed1e7862",
   "metadata": {},
   "source": [
    "# ــــــــــــــــــــــــــــــــــــــــــــــــــــــــــــــــــــــــــــــــــــــــــــــــــــــــــــــــــــــــــــــــــــــــــــــــــــــــــــــــــــــــــــــــــــــــــــــــــــــــــــــــــــــــــ"
   ]
  },
  {
   "cell_type": "markdown",
   "id": "8031c81a-cc63-4b3b-956d-7f12d3bb6a6d",
   "metadata": {},
   "source": [
    "# • Creating a 3D Data Cube With Random Values:"
   ]
  },
  {
   "cell_type": "code",
   "execution_count": 2,
   "id": "af953efc-ce63-4b54-b4f4-588f32bf9225",
   "metadata": {},
   "outputs": [
    {
     "name": "stdout",
     "output_type": "stream",
     "text": [
      "Data Cube:\n",
      "Location: Chennai\n",
      "    Egg  Milk  Bread  Biscuit\n",
      "Q1   10   181    179      927\n",
      "Q2  401   588    123      995\n",
      "Q3  863   109    847      643\n",
      "Q4  381   130    334      183\n",
      "\n",
      "Location: Kolkata\n",
      "    Egg  Milk  Bread  Biscuit\n",
      "Q1  909   870    160      236\n",
      "Q2  909    11    252       20\n",
      "Q3  354   105    510      408\n",
      "Q4  722   603    396      620\n",
      "\n",
      "Location: Mumbai\n",
      "    Egg  Milk  Bread  Biscuit\n",
      "Q1  758   133    868      940\n",
      "Q2  250   378    765      984\n",
      "Q3  121   552    656      164\n",
      "Q4  786   512    513      946\n",
      "\n",
      "Location: Delhi\n",
      "    Egg  Milk  Bread  Biscuit\n",
      "Q1  104   765    332      396\n",
      "Q2  818   368    707      998\n",
      "Q3  121   250    467      779\n",
      "Q4  914   649    183      254\n",
      "\n"
     ]
    }
   ],
   "source": [
    "data_cube = np.random.randint(10, 1000, size=(4, 4, 4))\n",
    "\n",
    "time = ['Q1', 'Q2', 'Q3', 'Q4']\n",
    "items = ['Egg', 'Milk', 'Bread', 'Biscuit']\n",
    "locations = ['Chennai', 'Kolkata', 'Mumbai', 'Delhi']\n",
    "\n",
    "# Display The 3D Data Cube:\n",
    "print(\"Data Cube:\")\n",
    "for i, loc in enumerate(locations):\n",
    "    print(f\"Location: {loc}\")\n",
    "    df = pd.DataFrame(data_cube[:, :, i], index=time, columns=items)\n",
    "    print(df)\n",
    "    print('')"
   ]
  },
  {
   "cell_type": "markdown",
   "id": "b2b5a4f1-d3b6-4917-81fc-1bb16b5eb922",
   "metadata": {},
   "source": [
    "# ــــــــــــــــــــــــــــــــــــــــــــــــــــــــــــــــــــــــــــــــــــــــــــــــــــــــــــــــــــــــــــــــــــــــــــــــــــــــــــــــــــــــــــــــــــــــــــــــــــــــــــــــــــــــــ"
   ]
  },
  {
   "cell_type": "markdown",
   "id": "6df321e6-8c25-43b0-887c-7f21fd9efc89",
   "metadata": {},
   "source": [
    "# 1) Roll-up: Sum Over Quarters:"
   ]
  },
  {
   "cell_type": "code",
   "execution_count": 3,
   "id": "703abaf6-ad4f-4b8d-a891-23ce92e81758",
   "metadata": {},
   "outputs": [
    {
     "name": "stdout",
     "output_type": "stream",
     "text": [
      "Roll-Up:\n",
      "         Chennai  Kolkata  Mumbai  Delhi\n",
      "Egg         1655     2894    1915   1957\n",
      "Milk        1008     1589    1575   2032\n",
      "Bread       1483     1318    2802   1689\n",
      "Biscuit     2748     1284    3034   2427\n"
     ]
    }
   ],
   "source": [
    "rollup = np.sum(data_cube, axis=0)\n",
    "print(\"Roll-Up:\")\n",
    "rollup_df = pd.DataFrame(rollup, index=items, columns=locations)\n",
    "print(rollup_df)"
   ]
  },
  {
   "cell_type": "markdown",
   "id": "744bc391-b357-4e8f-ae27-eb9b9cb69d4b",
   "metadata": {},
   "source": [
    "# ــــــــــــــــــــــــــــــــــــــــــــــــــــــــــــــــــــــــــــــــــــــــــــــــــــــــــــــــــــــــــــــــــــــــــــــــــــــــــــــــــــــــــــــــــــــــــــــــــــــــــــــــــــــــــ"
   ]
  },
  {
   "cell_type": "markdown",
   "id": "a36a6cad-b1a6-4b2f-a083-be484ca95a50",
   "metadata": {},
   "source": [
    "# 2) Drill-down: Focusing On A Specific Quarter:"
   ]
  },
  {
   "cell_type": "code",
   "execution_count": 4,
   "id": "135ef613-f13d-4c61-9ebb-43f8ba1ff4b6",
   "metadata": {},
   "outputs": [
    {
     "name": "stdout",
     "output_type": "stream",
     "text": [
      "Drill-Down:\n",
      "         Chennai  Kolkata  Mumbai  Delhi\n",
      "Egg           10      909     758    104\n",
      "Milk         181      870     133    765\n",
      "Bread        179      160     868    332\n",
      "Biscuit      927      236     940    396\n"
     ]
    }
   ],
   "source": [
    "q1 = data_cube[0, :, :]\n",
    "print(\"Drill-Down:\")\n",
    "drilldown_df = pd.DataFrame(q1, index=items, columns=locations)\n",
    "print(drilldown_df)"
   ]
  },
  {
   "cell_type": "markdown",
   "id": "d3fd47e0-1fb3-46cf-a946-ffb1bd0c0428",
   "metadata": {},
   "source": [
    "# ــــــــــــــــــــــــــــــــــــــــــــــــــــــــــــــــــــــــــــــــــــــــــــــــــــــــــــــــــــــــــــــــــــــــــــــــــــــــــــــــــــــــــــــــــــــــــــــــــــــــــــــــــــــــــ"
   ]
  },
  {
   "cell_type": "markdown",
   "id": "24716498-2472-467c-ab7a-ec55e8c95d01",
   "metadata": {},
   "source": [
    "# 3) Slicing: Filter Data For A Specific Location:"
   ]
  },
  {
   "cell_type": "code",
   "execution_count": 5,
   "id": "8ebb24ec-5c78-46c7-9ec8-43294e6d1e08",
   "metadata": {},
   "outputs": [
    {
     "name": "stdout",
     "output_type": "stream",
     "text": [
      "Slicing:\n",
      "    Egg  Milk  Bread  Biscuit\n",
      "Q1   10   181    179      927\n",
      "Q2  401   588    123      995\n",
      "Q3  863   109    847      643\n",
      "Q4  381   130    334      183\n"
     ]
    }
   ],
   "source": [
    "chennai = data_cube[:, :, 0]  \n",
    "print(\"Slicing:\")\n",
    "slicing_df = pd.DataFrame(chennai, index=time, columns=items)\n",
    "print(slicing_df)"
   ]
  },
  {
   "cell_type": "markdown",
   "id": "60456ad6-2454-40ba-aff9-d4218445dd20",
   "metadata": {},
   "source": [
    "# ــــــــــــــــــــــــــــــــــــــــــــــــــــــــــــــــــــــــــــــــــــــــــــــــــــــــــــــــــــــــــــــــــــــــــــــــــــــــــــــــــــــــــــــــــــــــــــــــــــــــــــــــــــــــــ"
   ]
  },
  {
   "cell_type": "markdown",
   "id": "25b02772-1737-4b1c-897a-bca55ff0246c",
   "metadata": {},
   "source": [
    "# 4) Dicing: Extract A Subcube For Specified Ranges:"
   ]
  },
  {
   "cell_type": "code",
   "execution_count": 6,
   "id": "a251553f-e867-45b5-a594-db35b1e1818e",
   "metadata": {},
   "outputs": [
    {
     "name": "stdout",
     "output_type": "stream",
     "text": [
      "Dicing:\n",
      "Location: Chennai\n",
      "    Milk  Bread\n",
      "Q1   181    179\n",
      "Q2   588    123\n",
      "\n",
      "Location: Kolkata\n",
      "    Milk  Bread\n",
      "Q1   870    160\n",
      "Q2    11    252\n",
      "\n"
     ]
    }
   ],
   "source": [
    "dicing = data_cube[0:2, 1:3, 0:2]  \n",
    "print(\"Dicing:\")\n",
    "for i, loc in enumerate(locations[:2]):\n",
    "    print(f\"Location: {loc}\")\n",
    "    df = pd.DataFrame(dicing[:, :, i], index=time[:2], columns=items[1:3])\n",
    "    print(df)\n",
    "    print('')"
   ]
  },
  {
   "cell_type": "markdown",
   "id": "a683d213-cfa2-4a8c-a712-d135c63aaadd",
   "metadata": {},
   "source": [
    "# ــــــــــــــــــــــــــــــــــــــــــــــــــــــــــــــــــــــــــــــــــــــــــــــــــــــــــــــــــــــــــــــــــــــــــــــــــــــــــــــــــــــــــــــــــــــــــــــــــــــــــــــــــــــــــ"
   ]
  },
  {
   "cell_type": "markdown",
   "id": "b316533b-d40d-468e-8ba9-a67f34fea335",
   "metadata": {},
   "source": [
    "# 5) Pivot: Transform The View:"
   ]
  },
  {
   "cell_type": "code",
   "execution_count": 7,
   "id": "e598ae65-50bc-4c30-b31e-29871658a02f",
   "metadata": {},
   "outputs": [
    {
     "name": "stdout",
     "output_type": "stream",
     "text": [
      "Pivot:\n",
      "          Q1   Q2   Q3   Q4\n",
      "Egg       10  401  863  381\n",
      "Milk     181  588  109  130\n",
      "Bread    179  123  847  334\n",
      "Biscuit  927  995  643  183\n"
     ]
    }
   ],
   "source": [
    "print(\"Pivot:\")\n",
    "pivot_df = pd.DataFrame(data_cube[:, :, 0], index=time, columns=items).T\n",
    "print(pivot_df)"
   ]
  },
  {
   "cell_type": "markdown",
   "id": "f93bb892-71b1-4143-84ea-e1aa62d7d8ec",
   "metadata": {},
   "source": [
    "# ــــــــــــــــــــــــــــــــــــــــــــــــــــــــــــــــــــــــــــــــــــــــــــــــــــــــــــــــــــــــــــــــــــــــــــــــــــــــــــــــــــــــــــــــــــــــــــــــــــــــــــــــــــــــــ"
   ]
  },
  {
   "cell_type": "markdown",
   "id": "83e8e7d3-ee25-4f9f-9717-960d5461fc13",
   "metadata": {},
   "source": [
    "# <center> **The End** </center> "
   ]
  },
  {
   "cell_type": "markdown",
   "id": "3edb7b27-eecd-4556-af74-2fc080c5fdb2",
   "metadata": {},
   "source": [
    "# ــــــــــــــــــــــــــــــــــــــــــــــــــــــــــــــــــــــــــــــــــــــــــــــــــــــــــــــــــــــــــــــــــــــــــــــــــــــــــــــــــــــــــــــــــــــــــــــــــــــــــــــــــــــــــ"
   ]
  }
 ],
 "metadata": {
  "kernelspec": {
   "display_name": "Python 3 (ipykernel)",
   "language": "python",
   "name": "python3"
  },
  "language_info": {
   "codemirror_mode": {
    "name": "ipython",
    "version": 3
   },
   "file_extension": ".py",
   "mimetype": "text/x-python",
   "name": "python",
   "nbconvert_exporter": "python",
   "pygments_lexer": "ipython3",
   "version": "3.9.19"
  }
 },
 "nbformat": 4,
 "nbformat_minor": 5
}
